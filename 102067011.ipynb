{
 "cells": [
  {
   "cell_type": "code",
   "execution_count": 94,
   "metadata": {},
   "outputs": [],
   "source": [
    "import pandas as pd\n",
    "import numpy as np\n",
    "import scipy.stats as st\n",
    "from sklearn.metrics import accuracy_score"
   ]
  },
  {
   "cell_type": "code",
   "execution_count": 95,
   "metadata": {},
   "outputs": [],
   "source": [
    "df = pd.read_csv('Creditcard_data.csv')"
   ]
  },
  {
   "cell_type": "code",
   "execution_count": 96,
   "metadata": {},
   "outputs": [
    {
     "data": {
      "text/html": [
       "<div>\n",
       "<style scoped>\n",
       "    .dataframe tbody tr th:only-of-type {\n",
       "        vertical-align: middle;\n",
       "    }\n",
       "\n",
       "    .dataframe tbody tr th {\n",
       "        vertical-align: top;\n",
       "    }\n",
       "\n",
       "    .dataframe thead th {\n",
       "        text-align: right;\n",
       "    }\n",
       "</style>\n",
       "<table border=\"1\" class=\"dataframe\">\n",
       "  <thead>\n",
       "    <tr style=\"text-align: right;\">\n",
       "      <th></th>\n",
       "      <th>Time</th>\n",
       "      <th>V1</th>\n",
       "      <th>V2</th>\n",
       "      <th>V3</th>\n",
       "      <th>V4</th>\n",
       "      <th>V5</th>\n",
       "      <th>V6</th>\n",
       "      <th>V7</th>\n",
       "      <th>V8</th>\n",
       "      <th>V9</th>\n",
       "      <th>...</th>\n",
       "      <th>V21</th>\n",
       "      <th>V22</th>\n",
       "      <th>V23</th>\n",
       "      <th>V24</th>\n",
       "      <th>V25</th>\n",
       "      <th>V26</th>\n",
       "      <th>V27</th>\n",
       "      <th>V28</th>\n",
       "      <th>Amount</th>\n",
       "      <th>Class</th>\n",
       "    </tr>\n",
       "  </thead>\n",
       "  <tbody>\n",
       "    <tr>\n",
       "      <th>0</th>\n",
       "      <td>0</td>\n",
       "      <td>-1.359807</td>\n",
       "      <td>-0.072781</td>\n",
       "      <td>2.536347</td>\n",
       "      <td>1.378155</td>\n",
       "      <td>-0.338321</td>\n",
       "      <td>0.462388</td>\n",
       "      <td>0.239599</td>\n",
       "      <td>0.098698</td>\n",
       "      <td>0.363787</td>\n",
       "      <td>...</td>\n",
       "      <td>-0.018307</td>\n",
       "      <td>0.277838</td>\n",
       "      <td>-0.110474</td>\n",
       "      <td>0.066928</td>\n",
       "      <td>0.128539</td>\n",
       "      <td>-0.189115</td>\n",
       "      <td>0.133558</td>\n",
       "      <td>-0.021053</td>\n",
       "      <td>149.62</td>\n",
       "      <td>0</td>\n",
       "    </tr>\n",
       "    <tr>\n",
       "      <th>1</th>\n",
       "      <td>0</td>\n",
       "      <td>1.191857</td>\n",
       "      <td>0.266151</td>\n",
       "      <td>0.166480</td>\n",
       "      <td>0.448154</td>\n",
       "      <td>0.060018</td>\n",
       "      <td>-0.082361</td>\n",
       "      <td>-0.078803</td>\n",
       "      <td>0.085102</td>\n",
       "      <td>-0.255425</td>\n",
       "      <td>...</td>\n",
       "      <td>-0.225775</td>\n",
       "      <td>-0.638672</td>\n",
       "      <td>0.101288</td>\n",
       "      <td>-0.339846</td>\n",
       "      <td>0.167170</td>\n",
       "      <td>0.125895</td>\n",
       "      <td>-0.008983</td>\n",
       "      <td>0.014724</td>\n",
       "      <td>2.69</td>\n",
       "      <td>1</td>\n",
       "    </tr>\n",
       "    <tr>\n",
       "      <th>2</th>\n",
       "      <td>1</td>\n",
       "      <td>-1.358354</td>\n",
       "      <td>-1.340163</td>\n",
       "      <td>1.773209</td>\n",
       "      <td>0.379780</td>\n",
       "      <td>-0.503198</td>\n",
       "      <td>1.800499</td>\n",
       "      <td>0.791461</td>\n",
       "      <td>0.247676</td>\n",
       "      <td>-1.514654</td>\n",
       "      <td>...</td>\n",
       "      <td>0.247998</td>\n",
       "      <td>0.771679</td>\n",
       "      <td>0.909412</td>\n",
       "      <td>-0.689281</td>\n",
       "      <td>-0.327642</td>\n",
       "      <td>-0.139097</td>\n",
       "      <td>-0.055353</td>\n",
       "      <td>-0.059752</td>\n",
       "      <td>378.66</td>\n",
       "      <td>0</td>\n",
       "    </tr>\n",
       "    <tr>\n",
       "      <th>3</th>\n",
       "      <td>1</td>\n",
       "      <td>-0.966272</td>\n",
       "      <td>-0.185226</td>\n",
       "      <td>1.792993</td>\n",
       "      <td>-0.863291</td>\n",
       "      <td>-0.010309</td>\n",
       "      <td>1.247203</td>\n",
       "      <td>0.237609</td>\n",
       "      <td>0.377436</td>\n",
       "      <td>-1.387024</td>\n",
       "      <td>...</td>\n",
       "      <td>-0.108300</td>\n",
       "      <td>0.005274</td>\n",
       "      <td>-0.190321</td>\n",
       "      <td>-1.175575</td>\n",
       "      <td>0.647376</td>\n",
       "      <td>-0.221929</td>\n",
       "      <td>0.062723</td>\n",
       "      <td>0.061458</td>\n",
       "      <td>123.50</td>\n",
       "      <td>0</td>\n",
       "    </tr>\n",
       "    <tr>\n",
       "      <th>4</th>\n",
       "      <td>2</td>\n",
       "      <td>-1.158233</td>\n",
       "      <td>0.877737</td>\n",
       "      <td>1.548718</td>\n",
       "      <td>0.403034</td>\n",
       "      <td>-0.407193</td>\n",
       "      <td>0.095921</td>\n",
       "      <td>0.592941</td>\n",
       "      <td>-0.270533</td>\n",
       "      <td>0.817739</td>\n",
       "      <td>...</td>\n",
       "      <td>-0.009431</td>\n",
       "      <td>0.798278</td>\n",
       "      <td>-0.137458</td>\n",
       "      <td>0.141267</td>\n",
       "      <td>-0.206010</td>\n",
       "      <td>0.502292</td>\n",
       "      <td>0.219422</td>\n",
       "      <td>0.215153</td>\n",
       "      <td>69.99</td>\n",
       "      <td>0</td>\n",
       "    </tr>\n",
       "  </tbody>\n",
       "</table>\n",
       "<p>5 rows × 31 columns</p>\n",
       "</div>"
      ],
      "text/plain": [
       "   Time        V1        V2        V3        V4        V5        V6        V7  \\\n",
       "0     0 -1.359807 -0.072781  2.536347  1.378155 -0.338321  0.462388  0.239599   \n",
       "1     0  1.191857  0.266151  0.166480  0.448154  0.060018 -0.082361 -0.078803   \n",
       "2     1 -1.358354 -1.340163  1.773209  0.379780 -0.503198  1.800499  0.791461   \n",
       "3     1 -0.966272 -0.185226  1.792993 -0.863291 -0.010309  1.247203  0.237609   \n",
       "4     2 -1.158233  0.877737  1.548718  0.403034 -0.407193  0.095921  0.592941   \n",
       "\n",
       "         V8        V9  ...       V21       V22       V23       V24       V25  \\\n",
       "0  0.098698  0.363787  ... -0.018307  0.277838 -0.110474  0.066928  0.128539   \n",
       "1  0.085102 -0.255425  ... -0.225775 -0.638672  0.101288 -0.339846  0.167170   \n",
       "2  0.247676 -1.514654  ...  0.247998  0.771679  0.909412 -0.689281 -0.327642   \n",
       "3  0.377436 -1.387024  ... -0.108300  0.005274 -0.190321 -1.175575  0.647376   \n",
       "4 -0.270533  0.817739  ... -0.009431  0.798278 -0.137458  0.141267 -0.206010   \n",
       "\n",
       "        V26       V27       V28  Amount  Class  \n",
       "0 -0.189115  0.133558 -0.021053  149.62      0  \n",
       "1  0.125895 -0.008983  0.014724    2.69      1  \n",
       "2 -0.139097 -0.055353 -0.059752  378.66      0  \n",
       "3 -0.221929  0.062723  0.061458  123.50      0  \n",
       "4  0.502292  0.219422  0.215153   69.99      0  \n",
       "\n",
       "[5 rows x 31 columns]"
      ]
     },
     "execution_count": 96,
     "metadata": {},
     "output_type": "execute_result"
    }
   ],
   "source": [
    "df.head()"
   ]
  },
  {
   "cell_type": "code",
   "execution_count": 97,
   "metadata": {},
   "outputs": [
    {
     "data": {
      "text/plain": [
       "{0: 763, 1: 9}"
      ]
     },
     "execution_count": 97,
     "metadata": {},
     "output_type": "execute_result"
    }
   ],
   "source": [
    "d = dict(df['Class'].value_counts())\n",
    "d"
   ]
  },
  {
   "cell_type": "code",
   "execution_count": 98,
   "metadata": {},
   "outputs": [],
   "source": [
    "def under_sampling(df : pd.DataFrame,target : str)->pd.DataFrame:\n",
    "    val_counts = dict(df[target].value_counts())\n",
    "    min_vals = min(list(val_counts.values()))\n",
    "    und_samp = pd.DataFrame(columns  = df.columns)\n",
    "    for id in val_counts.keys():\n",
    "        df1 = df[df[target] == id]\n",
    "        df1 = df1.sample(frac = 1)\n",
    "        df1 = df1.iloc[0:min_vals]\n",
    "        und_samp = pd.concat([und_samp,df1])\n",
    "    und_samp = und_samp.sample(frac = 1)\n",
    "    return und_samp"
   ]
  },
  {
   "cell_type": "code",
   "execution_count": 99,
   "metadata": {},
   "outputs": [],
   "source": [
    "und_df = under_sampling(df,'Class')"
   ]
  },
  {
   "cell_type": "code",
   "execution_count": 100,
   "metadata": {},
   "outputs": [
    {
     "data": {
      "text/plain": [
       "1    9\n",
       "0    9\n",
       "Name: Class, dtype: int64"
      ]
     },
     "execution_count": 100,
     "metadata": {},
     "output_type": "execute_result"
    }
   ],
   "source": [
    "und_df['Class'].value_counts()"
   ]
  },
  {
   "cell_type": "code",
   "execution_count": 101,
   "metadata": {},
   "outputs": [],
   "source": [
    "def over_sampling(df : pd.DataFrame,target : str)->pd.DataFrame:\n",
    "   \n",
    "   val_counts = dict(df[target].value_counts())\n",
    "   max_vals = max(list(val_counts.values()))\n",
    "   \n",
    "   ovr_samp = pd.DataFrame(columns  = df.columns)\n",
    "   \n",
    "   for id in val_counts.keys():\n",
    "        \n",
    "      df1 = df[df[target] == id]\n",
    "        \n",
    "      rem = max_vals % df1.shape[0]\n",
    "      copies = max_vals // df1.shape[0]\n",
    "      rem_rows = df1.sample(frac = 1).iloc[0:rem]\n",
    "      \n",
    "      if copies > 0:\n",
    "         df1 = pd.concat([df1]*copies)\n",
    "           \n",
    "      if rem > 0:\n",
    "         df1 = pd.concat([df1,rem_rows])\n",
    "        \n",
    "      ovr_samp = pd.concat([ovr_samp,df1])\n",
    "        \n",
    "      \n",
    "   ovr_samp = ovr_samp.sample(frac = 1)\n",
    "   return ovr_samp\n",
    "     "
   ]
  },
  {
   "cell_type": "code",
   "execution_count": 102,
   "metadata": {},
   "outputs": [],
   "source": [
    "ovr_df = over_sampling(df,'Class')"
   ]
  },
  {
   "cell_type": "code",
   "execution_count": 103,
   "metadata": {},
   "outputs": [
    {
     "data": {
      "text/plain": [
       "0    763\n",
       "1    763\n",
       "Name: Class, dtype: int64"
      ]
     },
     "execution_count": 103,
     "metadata": {},
     "output_type": "execute_result"
    }
   ],
   "source": [
    "ovr_df['Class'].value_counts()"
   ]
  },
  {
   "cell_type": "code",
   "execution_count": 104,
   "metadata": {},
   "outputs": [],
   "source": [
    "def Simple_Random_Sampling(df,z,e,p = 0.5):\n",
    "    z = st.norm.ppf(z)\n",
    "    n = (z**2)*(p*(1-p))//e**2\n",
    "    rand_sample = df.sample(int(n))\n",
    "    return rand_sample\n",
    "    "
   ]
  },
  {
   "cell_type": "code",
   "execution_count": 105,
   "metadata": {},
   "outputs": [
    {
     "data": {
      "text/plain": [
       "0    267\n",
       "1      3\n",
       "Name: Class, dtype: int64"
      ]
     },
     "execution_count": 105,
     "metadata": {},
     "output_type": "execute_result"
    }
   ],
   "source": [
    "Simple_Random_Sampling(df,0.95,0.05)['Class'].value_counts()"
   ]
  },
  {
   "cell_type": "code",
   "execution_count": 106,
   "metadata": {},
   "outputs": [],
   "source": [
    "def Sratified_Sampling(df,tar,z,e,p = 0.5):\n",
    "    s = len(dict(df[tar].value_counts()))\n",
    "    z = st.norm.ppf(z)\n",
    "    n = (z**2)*(p*(1-p))//((e/s)**2)\n",
    "    rows = df.shape[0]\n",
    "    strat_sam = df.groupby(tar, group_keys=False).apply(lambda x: x.sample(frac=n/rows))\n",
    "    return strat_sam"
   ]
  },
  {
   "cell_type": "code",
   "execution_count": 107,
   "metadata": {},
   "outputs": [
    {
     "data": {
      "text/plain": [
       "0    541\n",
       "1    541\n",
       "Name: Class, dtype: int64"
      ]
     },
     "execution_count": 107,
     "metadata": {},
     "output_type": "execute_result"
    }
   ],
   "source": [
    "Sratified_Sampling(ovr_df,'Class',0.95,0.05)['Class'].value_counts()"
   ]
  },
  {
   "cell_type": "code",
   "execution_count": 108,
   "metadata": {},
   "outputs": [],
   "source": [
    "def Cluster_Sampling(df,tar,z,e,c,p = 0.5):\n",
    "    z = st.norm.ppf(z)\n",
    "    rows = df.shape[0]\n",
    "    n = ((z**2)*(p*(1-p))/((e)**2))/(rows - c)\n",
    "    clust = df.sample(frac=n)\n",
    "    return clust\n",
    "    "
   ]
  },
  {
   "cell_type": "code",
   "execution_count": 109,
   "metadata": {},
   "outputs": [
    {
     "data": {
      "text/plain": [
       "0    176\n",
       "1    161\n",
       "Name: Class, dtype: int64"
      ]
     },
     "execution_count": 109,
     "metadata": {},
     "output_type": "execute_result"
    }
   ],
   "source": [
    "Cluster_Sampling(ovr_df,'Class',0.95,0.05,300)['Class'].value_counts()"
   ]
  },
  {
   "cell_type": "code",
   "execution_count": 110,
   "metadata": {},
   "outputs": [],
   "source": [
    "def Systematic_sampling(df,k):\n",
    "    indexes = np.arange(0, len(df), step=k)\n",
    "    systematic_sample = df.iloc[indexes]\n",
    "    return systematic_sample"
   ]
  },
  {
   "cell_type": "code",
   "execution_count": 111,
   "metadata": {},
   "outputs": [
    {
     "data": {
      "text/plain": [
       "0    164\n",
       "1    142\n",
       "Name: Class, dtype: int64"
      ]
     },
     "execution_count": 111,
     "metadata": {},
     "output_type": "execute_result"
    }
   ],
   "source": [
    "Systematic_sampling(ovr_df,5)['Class'].value_counts()"
   ]
  },
  {
   "cell_type": "code",
   "execution_count": 112,
   "metadata": {},
   "outputs": [
    {
     "name": "stdout",
     "output_type": "stream",
     "text": [
      "3828.04 0.0\n"
     ]
    }
   ],
   "source": [
    "print(max(df['Amount']),min(df['Amount']))"
   ]
  },
  {
   "attachments": {},
   "cell_type": "markdown",
   "metadata": {},
   "source": [
    "Convenience Sampling is a method of collecting data in which the investigator selects the items from the population that suits his convenience."
   ]
  },
  {
   "cell_type": "code",
   "execution_count": 113,
   "metadata": {},
   "outputs": [],
   "source": [
    "def Convenience_Sampling(df,par,amt):\n",
    "    return df[df[par]<=amt]"
   ]
  },
  {
   "attachments": {},
   "cell_type": "markdown",
   "metadata": {},
   "source": [
    "Selecting rows where amount is less than 5 "
   ]
  },
  {
   "cell_type": "code",
   "execution_count": 114,
   "metadata": {},
   "outputs": [
    {
     "data": {
      "text/plain": [
       "1    678\n",
       "0    177\n",
       "Name: Class, dtype: int64"
      ]
     },
     "execution_count": 114,
     "metadata": {},
     "output_type": "execute_result"
    }
   ],
   "source": [
    "Convenience_Sampling(ovr_df,'Amount',5)['Class'].value_counts()"
   ]
  },
  {
   "attachments": {},
   "cell_type": "markdown",
   "metadata": {},
   "source": [
    "### Taking Samples from balanced data (Over Sampling) ###"
   ]
  },
  {
   "cell_type": "code",
   "execution_count": 115,
   "metadata": {},
   "outputs": [],
   "source": [
    "sample1 = Simple_Random_Sampling(ovr_df,0.95,0.05)\n",
    "sample2 = Systematic_sampling(ovr_df,5)\n",
    "sample3 = Sratified_Sampling(ovr_df,'Class',0.95,0.05)\n",
    "sample4 = Cluster_Sampling(ovr_df,'Class',0.95,0.05,300)\n",
    "sample5 = Convenience_Sampling(ovr_df,'Amount',5)"
   ]
  },
  {
   "cell_type": "code",
   "execution_count": 116,
   "metadata": {},
   "outputs": [],
   "source": [
    "samples = []\n",
    "samples.append(sample1)\n",
    "samples.append(sample2)\n",
    "samples.append(sample3)\n",
    "samples.append(sample4)\n",
    "samples.append(sample5)"
   ]
  },
  {
   "attachments": {},
   "cell_type": "markdown",
   "metadata": {},
   "source": [
    "### Testing on whole dataset ###"
   ]
  },
  {
   "cell_type": "code",
   "execution_count": 117,
   "metadata": {},
   "outputs": [],
   "source": [
    "x_test = np.array(df.iloc[:,:-1])\n",
    "y_test = np.array(df.iloc[:,-1:].values).reshape(-1,).astype('int')"
   ]
  },
  {
   "attachments": {},
   "cell_type": "markdown",
   "metadata": {},
   "source": [
    "### Model 1  - Logistic Regression ###"
   ]
  },
  {
   "cell_type": "code",
   "execution_count": 118,
   "metadata": {},
   "outputs": [
    {
     "name": "stdout",
     "output_type": "stream",
     "text": [
      "0.8290155440414507\n",
      "0.8471502590673575\n",
      "0.8652849740932642\n",
      "0.8251295336787565\n",
      "0.8095854922279793\n"
     ]
    }
   ],
   "source": [
    "from sklearn.linear_model import LogisticRegression\n",
    "from sklearn.pipeline import make_pipeline\n",
    "from sklearn.preprocessing import StandardScaler\n",
    "logistic_acc = []\n",
    "for sample in samples:\n",
    "    classifier1 = make_pipeline(StandardScaler(), LogisticRegression())\n",
    "    x_train = np.array(sample.iloc[:,:-1])\n",
    "    y_train = np.array(sample.iloc[:,-1:].values).reshape(-1,).astype('int')\n",
    "    classifier1.fit(x_train,y_train)\n",
    "    y_pred = classifier1.predict(x_test)\n",
    "    acc = accuracy_score(y_test,y_pred)\n",
    "    logistic_acc.append(acc)\n",
    "    print(acc)\n",
    "    "
   ]
  },
  {
   "attachments": {},
   "cell_type": "markdown",
   "metadata": {},
   "source": [
    "### Model 2 - SVM ###"
   ]
  },
  {
   "cell_type": "code",
   "execution_count": 119,
   "metadata": {},
   "outputs": [
    {
     "name": "stdout",
     "output_type": "stream",
     "text": [
      "0.8264248704663213\n",
      "0.8238341968911918\n",
      "0.8691709844559585\n",
      "0.8432642487046632\n",
      "0.7448186528497409\n"
     ]
    }
   ],
   "source": [
    "from sklearn.svm import SVC  \n",
    "svm_acc = []\n",
    "for sample in samples:\n",
    "    classifier2 = SVC(kernel='linear') \n",
    "    x_train = np.array(sample.iloc[:,:-1])\n",
    "    y_train = np.array(sample.iloc[:,-1:].values).reshape(-1,).astype('int')\n",
    "    classifier2.fit(x_train,y_train)\n",
    "    y_pred = classifier2.predict(x_test)\n",
    "    acc = accuracy_score(y_test,y_pred)\n",
    "    svm_acc.append(acc)\n",
    "    print(acc)"
   ]
  },
  {
   "attachments": {},
   "cell_type": "markdown",
   "metadata": {},
   "source": [
    "### Model 3  - KNN ###"
   ]
  },
  {
   "cell_type": "code",
   "execution_count": 120,
   "metadata": {},
   "outputs": [
    {
     "name": "stdout",
     "output_type": "stream",
     "text": [
      "0.8147668393782384\n",
      "0.8471502590673575\n",
      "0.9650259067357513\n",
      "0.8588082901554405\n",
      "0.9248704663212435\n"
     ]
    }
   ],
   "source": [
    "from sklearn.neighbors import KNeighborsClassifier\n",
    "knn_acc = []\n",
    "for sample in samples:\n",
    "    classifier3 = KNeighborsClassifier(n_neighbors=7) \n",
    "    x_train = np.array(sample.iloc[:,:-1])\n",
    "    y_train = np.array(sample.iloc[:,-1:].values).reshape(-1,).astype('int')\n",
    "    classifier3.fit(x_train,y_train)\n",
    "    y_pred = classifier3.predict(x_test)\n",
    "    acc = accuracy_score(y_test,y_pred)\n",
    "    knn_acc.append(acc)\n",
    "    print(acc)"
   ]
  },
  {
   "attachments": {},
   "cell_type": "markdown",
   "metadata": {},
   "source": [
    "### Model 4 - Decision Tree ###"
   ]
  },
  {
   "cell_type": "code",
   "execution_count": 121,
   "metadata": {},
   "outputs": [
    {
     "name": "stdout",
     "output_type": "stream",
     "text": [
      "0.9624352331606217\n",
      "0.9559585492227979\n",
      "0.9948186528497409\n",
      "0.9676165803108808\n",
      "0.9987046632124352\n"
     ]
    }
   ],
   "source": [
    "from sklearn.tree import DecisionTreeClassifier\n",
    "dtc_acc = []\n",
    "for sample in samples:\n",
    "    classifier4 = DecisionTreeClassifier()\n",
    "    x_train = np.array(sample.iloc[:,:-1])\n",
    "    y_train = np.array(sample.iloc[:,-1:].values).reshape(-1,).astype('int')\n",
    "    classifier4.fit(x_train,y_train)\n",
    "    y_pred = classifier4.predict(x_test)\n",
    "    acc = accuracy_score(y_test,y_pred)\n",
    "    dtc_acc.append(acc)\n",
    "    print(acc)"
   ]
  },
  {
   "attachments": {},
   "cell_type": "markdown",
   "metadata": {},
   "source": [
    "### Model 5 - Naive Bayes ###"
   ]
  },
  {
   "cell_type": "code",
   "execution_count": 122,
   "metadata": {},
   "outputs": [
    {
     "name": "stdout",
     "output_type": "stream",
     "text": [
      "0.832901554404145\n",
      "0.7940414507772021\n",
      "0.9222797927461139\n",
      "0.9417098445595855\n",
      "0.9287564766839378\n"
     ]
    }
   ],
   "source": [
    "from sklearn.naive_bayes import GaussianNB\n",
    "gnb_acc = []\n",
    "for sample in samples:\n",
    "    classifier5  = GaussianNB()\n",
    "    x_train = np.array(sample.iloc[:,:-1])\n",
    "    y_train = np.array(sample.iloc[:,-1:].values).reshape(-1,).astype('int')\n",
    "    classifier5.fit(x_train,y_train)\n",
    "    y_pred = classifier5.predict(x_test)\n",
    "    acc = accuracy_score(y_test,y_pred)\n",
    "    gnb_acc.append(acc)\n",
    "    print(acc)"
   ]
  },
  {
   "attachments": {},
   "cell_type": "markdown",
   "metadata": {},
   "source": [
    "### COMPARISION ###"
   ]
  },
  {
   "cell_type": "code",
   "execution_count": 173,
   "metadata": {},
   "outputs": [],
   "source": [
    "metrics = pd.DataFrame()\n",
    "metrics['models'] = ['Simple_Random_Sampling','Systematic_sampling','Sratified_Sampling','Cluster_Sampling','Convenience_Sampling']\n",
    "metrics['logistic_regression'] = logistic_acc\n",
    "metrics['SVM (linear)'] = svm_acc\n",
    "metrics['KNN (n = 7)'] = knn_acc\n",
    "metrics['Decision_tree'] = dtc_acc\n",
    "metrics['Naive_bayes'] = gnb_acc"
   ]
  },
  {
   "cell_type": "code",
   "execution_count": 174,
   "metadata": {},
   "outputs": [
    {
     "data": {
      "text/html": [
       "<div>\n",
       "<style scoped>\n",
       "    .dataframe tbody tr th:only-of-type {\n",
       "        vertical-align: middle;\n",
       "    }\n",
       "\n",
       "    .dataframe tbody tr th {\n",
       "        vertical-align: top;\n",
       "    }\n",
       "\n",
       "    .dataframe thead th {\n",
       "        text-align: right;\n",
       "    }\n",
       "</style>\n",
       "<table border=\"1\" class=\"dataframe\">\n",
       "  <thead>\n",
       "    <tr style=\"text-align: right;\">\n",
       "      <th></th>\n",
       "      <th>models</th>\n",
       "      <th>logistic_regression</th>\n",
       "      <th>SVM (linear)</th>\n",
       "      <th>KNN (n = 7)</th>\n",
       "      <th>Decision_tree</th>\n",
       "      <th>Naive_bayes</th>\n",
       "    </tr>\n",
       "  </thead>\n",
       "  <tbody>\n",
       "    <tr>\n",
       "      <th>0</th>\n",
       "      <td>Simple_Random_Sampling</td>\n",
       "      <td>0.829016</td>\n",
       "      <td>0.826425</td>\n",
       "      <td>0.814767</td>\n",
       "      <td>0.962435</td>\n",
       "      <td>0.832902</td>\n",
       "    </tr>\n",
       "    <tr>\n",
       "      <th>1</th>\n",
       "      <td>Systematic_sampling</td>\n",
       "      <td>0.847150</td>\n",
       "      <td>0.823834</td>\n",
       "      <td>0.847150</td>\n",
       "      <td>0.955959</td>\n",
       "      <td>0.794041</td>\n",
       "    </tr>\n",
       "    <tr>\n",
       "      <th>2</th>\n",
       "      <td>Sratified_Sampling</td>\n",
       "      <td>0.865285</td>\n",
       "      <td>0.869171</td>\n",
       "      <td>0.965026</td>\n",
       "      <td>0.994819</td>\n",
       "      <td>0.922280</td>\n",
       "    </tr>\n",
       "    <tr>\n",
       "      <th>3</th>\n",
       "      <td>Cluster_Sampling</td>\n",
       "      <td>0.825130</td>\n",
       "      <td>0.843264</td>\n",
       "      <td>0.858808</td>\n",
       "      <td>0.967617</td>\n",
       "      <td>0.941710</td>\n",
       "    </tr>\n",
       "    <tr>\n",
       "      <th>4</th>\n",
       "      <td>Convenience_Sampling</td>\n",
       "      <td>0.809585</td>\n",
       "      <td>0.744819</td>\n",
       "      <td>0.924870</td>\n",
       "      <td>0.998705</td>\n",
       "      <td>0.928756</td>\n",
       "    </tr>\n",
       "  </tbody>\n",
       "</table>\n",
       "</div>"
      ],
      "text/plain": [
       "                   models  logistic_regression  SVM (linear)  KNN (n = 7)  \\\n",
       "0  Simple_Random_Sampling             0.829016      0.826425     0.814767   \n",
       "1     Systematic_sampling             0.847150      0.823834     0.847150   \n",
       "2      Sratified_Sampling             0.865285      0.869171     0.965026   \n",
       "3        Cluster_Sampling             0.825130      0.843264     0.858808   \n",
       "4    Convenience_Sampling             0.809585      0.744819     0.924870   \n",
       "\n",
       "   Decision_tree  Naive_bayes  \n",
       "0       0.962435     0.832902  \n",
       "1       0.955959     0.794041  \n",
       "2       0.994819     0.922280  \n",
       "3       0.967617     0.941710  \n",
       "4       0.998705     0.928756  "
      ]
     },
     "execution_count": 174,
     "metadata": {},
     "output_type": "execute_result"
    }
   ],
   "source": [
    "metrics"
   ]
  },
  {
   "attachments": {},
   "cell_type": "markdown",
   "metadata": {},
   "source": [
    "### Applying TOPSIS to find best sampling technique for given dataset ###"
   ]
  },
  {
   "cell_type": "code",
   "execution_count": 168,
   "metadata": {},
   "outputs": [],
   "source": [
    "import Topsis_Shubham_102067011 as top"
   ]
  },
  {
   "cell_type": "code",
   "execution_count": 175,
   "metadata": {},
   "outputs": [
    {
     "data": {
      "text/html": [
       "<div>\n",
       "<style scoped>\n",
       "    .dataframe tbody tr th:only-of-type {\n",
       "        vertical-align: middle;\n",
       "    }\n",
       "\n",
       "    .dataframe tbody tr th {\n",
       "        vertical-align: top;\n",
       "    }\n",
       "\n",
       "    .dataframe thead th {\n",
       "        text-align: right;\n",
       "    }\n",
       "</style>\n",
       "<table border=\"1\" class=\"dataframe\">\n",
       "  <thead>\n",
       "    <tr style=\"text-align: right;\">\n",
       "      <th></th>\n",
       "      <th>models</th>\n",
       "      <th>logistic_regression</th>\n",
       "      <th>SVM (linear)</th>\n",
       "      <th>KNN (n = 7)</th>\n",
       "      <th>Decision_tree</th>\n",
       "      <th>Naive_bayes</th>\n",
       "      <th>Performance score</th>\n",
       "      <th>Rank</th>\n",
       "    </tr>\n",
       "  </thead>\n",
       "  <tbody>\n",
       "    <tr>\n",
       "      <th>0</th>\n",
       "      <td>Simple_Random_Sampling</td>\n",
       "      <td>0.443767</td>\n",
       "      <td>0.449317</td>\n",
       "      <td>0.412271</td>\n",
       "      <td>0.440970</td>\n",
       "      <td>0.420452</td>\n",
       "      <td>0.332110</td>\n",
       "      <td>4</td>\n",
       "    </tr>\n",
       "    <tr>\n",
       "      <th>1</th>\n",
       "      <td>Systematic_sampling</td>\n",
       "      <td>0.453475</td>\n",
       "      <td>0.447909</td>\n",
       "      <td>0.428657</td>\n",
       "      <td>0.438002</td>\n",
       "      <td>0.400835</td>\n",
       "      <td>0.331952</td>\n",
       "      <td>5</td>\n",
       "    </tr>\n",
       "    <tr>\n",
       "      <th>2</th>\n",
       "      <td>Sratified_Sampling</td>\n",
       "      <td>0.463182</td>\n",
       "      <td>0.472558</td>\n",
       "      <td>0.488302</td>\n",
       "      <td>0.455807</td>\n",
       "      <td>0.465570</td>\n",
       "      <td>0.926409</td>\n",
       "      <td>1</td>\n",
       "    </tr>\n",
       "    <tr>\n",
       "      <th>3</th>\n",
       "      <td>Cluster_Sampling</td>\n",
       "      <td>0.441687</td>\n",
       "      <td>0.458473</td>\n",
       "      <td>0.434556</td>\n",
       "      <td>0.443344</td>\n",
       "      <td>0.475379</td>\n",
       "      <td>0.607868</td>\n",
       "      <td>2</td>\n",
       "    </tr>\n",
       "    <tr>\n",
       "      <th>4</th>\n",
       "      <td>Convenience_Sampling</td>\n",
       "      <td>0.433366</td>\n",
       "      <td>0.404949</td>\n",
       "      <td>0.467983</td>\n",
       "      <td>0.457588</td>\n",
       "      <td>0.468840</td>\n",
       "      <td>0.539390</td>\n",
       "      <td>3</td>\n",
       "    </tr>\n",
       "  </tbody>\n",
       "</table>\n",
       "</div>"
      ],
      "text/plain": [
       "                   models  logistic_regression  SVM (linear)  KNN (n = 7)  \\\n",
       "0  Simple_Random_Sampling             0.443767      0.449317     0.412271   \n",
       "1     Systematic_sampling             0.453475      0.447909     0.428657   \n",
       "2      Sratified_Sampling             0.463182      0.472558     0.488302   \n",
       "3        Cluster_Sampling             0.441687      0.458473     0.434556   \n",
       "4    Convenience_Sampling             0.433366      0.404949     0.467983   \n",
       "\n",
       "   Decision_tree  Naive_bayes  Performance score  Rank  \n",
       "0       0.440970     0.420452           0.332110     4  \n",
       "1       0.438002     0.400835           0.331952     5  \n",
       "2       0.455807     0.465570           0.926409     1  \n",
       "3       0.443344     0.475379           0.607868     2  \n",
       "4       0.457588     0.468840           0.539390     3  "
      ]
     },
     "execution_count": 175,
     "metadata": {},
     "output_type": "execute_result"
    }
   ],
   "source": [
    "metrics1 = metrics.copy()\n",
    "topsis_metrics = top.normalize(metrics1)\n",
    "topsis_metrics = top.weightAssignment(topsis_metrics,[1,1,1,1,1])\n",
    "ideals = top.ideal(topsis_metrics,['+','+','+','+','+'])\n",
    "dist = top.euclideanDist(topsis_metrics,ideals[0],ideals[1])\n",
    "scores = top.performance_score(dist[0],dist[1])\n",
    "ranks = top.TOPSIS_result(topsis_metrics,scores)['Rank']\n",
    "top.TOPSIS_result(topsis_metrics,scores)"
   ]
  },
  {
   "cell_type": "code",
   "execution_count": 177,
   "metadata": {},
   "outputs": [
    {
     "data": {
      "text/html": [
       "<div>\n",
       "<style scoped>\n",
       "    .dataframe tbody tr th:only-of-type {\n",
       "        vertical-align: middle;\n",
       "    }\n",
       "\n",
       "    .dataframe tbody tr th {\n",
       "        vertical-align: top;\n",
       "    }\n",
       "\n",
       "    .dataframe thead th {\n",
       "        text-align: right;\n",
       "    }\n",
       "</style>\n",
       "<table border=\"1\" class=\"dataframe\">\n",
       "  <thead>\n",
       "    <tr style=\"text-align: right;\">\n",
       "      <th></th>\n",
       "      <th>models</th>\n",
       "      <th>logistic_regression</th>\n",
       "      <th>SVM (linear)</th>\n",
       "      <th>KNN (n = 7)</th>\n",
       "      <th>Decision_tree</th>\n",
       "      <th>Naive_bayes</th>\n",
       "      <th>Performance score</th>\n",
       "      <th>Rank</th>\n",
       "    </tr>\n",
       "  </thead>\n",
       "  <tbody>\n",
       "    <tr>\n",
       "      <th>0</th>\n",
       "      <td>Simple_Random_Sampling</td>\n",
       "      <td>0.829016</td>\n",
       "      <td>0.826425</td>\n",
       "      <td>0.814767</td>\n",
       "      <td>0.962435</td>\n",
       "      <td>0.832902</td>\n",
       "      <td>0.332110</td>\n",
       "      <td>4</td>\n",
       "    </tr>\n",
       "    <tr>\n",
       "      <th>1</th>\n",
       "      <td>Systematic_sampling</td>\n",
       "      <td>0.847150</td>\n",
       "      <td>0.823834</td>\n",
       "      <td>0.847150</td>\n",
       "      <td>0.955959</td>\n",
       "      <td>0.794041</td>\n",
       "      <td>0.331952</td>\n",
       "      <td>5</td>\n",
       "    </tr>\n",
       "    <tr>\n",
       "      <th>2</th>\n",
       "      <td>Sratified_Sampling</td>\n",
       "      <td>0.865285</td>\n",
       "      <td>0.869171</td>\n",
       "      <td>0.965026</td>\n",
       "      <td>0.994819</td>\n",
       "      <td>0.922280</td>\n",
       "      <td>0.926409</td>\n",
       "      <td>1</td>\n",
       "    </tr>\n",
       "    <tr>\n",
       "      <th>3</th>\n",
       "      <td>Cluster_Sampling</td>\n",
       "      <td>0.825130</td>\n",
       "      <td>0.843264</td>\n",
       "      <td>0.858808</td>\n",
       "      <td>0.967617</td>\n",
       "      <td>0.941710</td>\n",
       "      <td>0.607868</td>\n",
       "      <td>2</td>\n",
       "    </tr>\n",
       "    <tr>\n",
       "      <th>4</th>\n",
       "      <td>Convenience_Sampling</td>\n",
       "      <td>0.809585</td>\n",
       "      <td>0.744819</td>\n",
       "      <td>0.924870</td>\n",
       "      <td>0.998705</td>\n",
       "      <td>0.928756</td>\n",
       "      <td>0.539390</td>\n",
       "      <td>3</td>\n",
       "    </tr>\n",
       "  </tbody>\n",
       "</table>\n",
       "</div>"
      ],
      "text/plain": [
       "                   models  logistic_regression  SVM (linear)  KNN (n = 7)  \\\n",
       "0  Simple_Random_Sampling             0.829016      0.826425     0.814767   \n",
       "1     Systematic_sampling             0.847150      0.823834     0.847150   \n",
       "2      Sratified_Sampling             0.865285      0.869171     0.965026   \n",
       "3        Cluster_Sampling             0.825130      0.843264     0.858808   \n",
       "4    Convenience_Sampling             0.809585      0.744819     0.924870   \n",
       "\n",
       "   Decision_tree  Naive_bayes  Performance score  Rank  \n",
       "0       0.962435     0.832902           0.332110     4  \n",
       "1       0.955959     0.794041           0.331952     5  \n",
       "2       0.994819     0.922280           0.926409     1  \n",
       "3       0.967617     0.941710           0.607868     2  \n",
       "4       0.998705     0.928756           0.539390     3  "
      ]
     },
     "execution_count": 177,
     "metadata": {},
     "output_type": "execute_result"
    }
   ],
   "source": [
    "metrics['Performance score'] = scores\n",
    "metrics['Rank'] = ranks\n",
    "metrics"
   ]
  },
  {
   "attachments": {},
   "cell_type": "markdown",
   "metadata": {},
   "source": [
    "Stratified Sampling has the highest performance score by a large margin.\n",
    "\n",
    "Therefore stratified sampling is the best sampling method for the given dataset.\n",
    "\n",
    "Decision Tree is the best model with 99.8% accuracy. "
   ]
  },
  {
   "cell_type": "markdown",
   "metadata": {},
   "source": []
  },
  {
   "cell_type": "code",
   "execution_count": null,
   "metadata": {},
   "outputs": [],
   "source": []
  },
  {
   "cell_type": "code",
   "execution_count": null,
   "metadata": {},
   "outputs": [],
   "source": []
  },
  {
   "cell_type": "code",
   "execution_count": null,
   "metadata": {},
   "outputs": [],
   "source": []
  },
  {
   "cell_type": "code",
   "execution_count": null,
   "metadata": {},
   "outputs": [],
   "source": []
  }
 ],
 "metadata": {
  "kernelspec": {
   "display_name": "Python 3",
   "language": "python",
   "name": "python3"
  },
  "language_info": {
   "codemirror_mode": {
    "name": "ipython",
    "version": 3
   },
   "file_extension": ".py",
   "mimetype": "text/x-python",
   "name": "python",
   "nbconvert_exporter": "python",
   "pygments_lexer": "ipython3",
   "version": "3.10.2"
  },
  "orig_nbformat": 4,
  "vscode": {
   "interpreter": {
    "hash": "369f2c481f4da34e4445cda3fffd2e751bd1c4d706f27375911949ba6bb62e1c"
   }
  }
 },
 "nbformat": 4,
 "nbformat_minor": 2
}
