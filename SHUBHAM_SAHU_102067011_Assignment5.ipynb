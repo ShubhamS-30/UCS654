{
 "cells": [
  {
   "cell_type": "code",
   "execution_count": 1,
   "metadata": {},
   "outputs": [],
   "source": [
    "import numpy as np\n",
    "import matplotlib.pyplot as plt\n",
    "import pandas as pd\n",
    "import scipy.stats as st"
   ]
  },
  {
   "cell_type": "code",
   "execution_count": 2,
   "metadata": {},
   "outputs": [
    {
     "data": {
      "text/html": [
       "<div>\n",
       "<style scoped>\n",
       "    .dataframe tbody tr th:only-of-type {\n",
       "        vertical-align: middle;\n",
       "    }\n",
       "\n",
       "    .dataframe tbody tr th {\n",
       "        vertical-align: top;\n",
       "    }\n",
       "\n",
       "    .dataframe thead th {\n",
       "        text-align: right;\n",
       "    }\n",
       "</style>\n",
       "<table border=\"1\" class=\"dataframe\">\n",
       "  <thead>\n",
       "    <tr style=\"text-align: right;\">\n",
       "      <th></th>\n",
       "      <th>T</th>\n",
       "      <th>2</th>\n",
       "      <th>8</th>\n",
       "      <th>3</th>\n",
       "      <th>5</th>\n",
       "      <th>1</th>\n",
       "      <th>8.1</th>\n",
       "      <th>13</th>\n",
       "      <th>0</th>\n",
       "      <th>6</th>\n",
       "      <th>6.1</th>\n",
       "      <th>10</th>\n",
       "      <th>8.2</th>\n",
       "      <th>0.1</th>\n",
       "      <th>8.3</th>\n",
       "      <th>0.2</th>\n",
       "      <th>8.4</th>\n",
       "    </tr>\n",
       "  </thead>\n",
       "  <tbody>\n",
       "    <tr>\n",
       "      <th>0</th>\n",
       "      <td>I</td>\n",
       "      <td>5</td>\n",
       "      <td>12</td>\n",
       "      <td>3</td>\n",
       "      <td>7</td>\n",
       "      <td>2</td>\n",
       "      <td>10</td>\n",
       "      <td>5</td>\n",
       "      <td>5</td>\n",
       "      <td>4</td>\n",
       "      <td>13</td>\n",
       "      <td>3</td>\n",
       "      <td>9</td>\n",
       "      <td>2</td>\n",
       "      <td>8</td>\n",
       "      <td>4</td>\n",
       "      <td>10</td>\n",
       "    </tr>\n",
       "    <tr>\n",
       "      <th>1</th>\n",
       "      <td>D</td>\n",
       "      <td>4</td>\n",
       "      <td>11</td>\n",
       "      <td>6</td>\n",
       "      <td>8</td>\n",
       "      <td>6</td>\n",
       "      <td>10</td>\n",
       "      <td>6</td>\n",
       "      <td>2</td>\n",
       "      <td>6</td>\n",
       "      <td>10</td>\n",
       "      <td>3</td>\n",
       "      <td>7</td>\n",
       "      <td>3</td>\n",
       "      <td>7</td>\n",
       "      <td>3</td>\n",
       "      <td>9</td>\n",
       "    </tr>\n",
       "    <tr>\n",
       "      <th>2</th>\n",
       "      <td>N</td>\n",
       "      <td>7</td>\n",
       "      <td>11</td>\n",
       "      <td>6</td>\n",
       "      <td>6</td>\n",
       "      <td>3</td>\n",
       "      <td>5</td>\n",
       "      <td>9</td>\n",
       "      <td>4</td>\n",
       "      <td>6</td>\n",
       "      <td>4</td>\n",
       "      <td>4</td>\n",
       "      <td>10</td>\n",
       "      <td>6</td>\n",
       "      <td>10</td>\n",
       "      <td>2</td>\n",
       "      <td>8</td>\n",
       "    </tr>\n",
       "    <tr>\n",
       "      <th>3</th>\n",
       "      <td>G</td>\n",
       "      <td>2</td>\n",
       "      <td>1</td>\n",
       "      <td>3</td>\n",
       "      <td>1</td>\n",
       "      <td>1</td>\n",
       "      <td>8</td>\n",
       "      <td>6</td>\n",
       "      <td>6</td>\n",
       "      <td>6</td>\n",
       "      <td>6</td>\n",
       "      <td>5</td>\n",
       "      <td>9</td>\n",
       "      <td>1</td>\n",
       "      <td>7</td>\n",
       "      <td>5</td>\n",
       "      <td>10</td>\n",
       "    </tr>\n",
       "    <tr>\n",
       "      <th>4</th>\n",
       "      <td>S</td>\n",
       "      <td>4</td>\n",
       "      <td>11</td>\n",
       "      <td>5</td>\n",
       "      <td>8</td>\n",
       "      <td>3</td>\n",
       "      <td>8</td>\n",
       "      <td>8</td>\n",
       "      <td>6</td>\n",
       "      <td>9</td>\n",
       "      <td>5</td>\n",
       "      <td>6</td>\n",
       "      <td>6</td>\n",
       "      <td>0</td>\n",
       "      <td>8</td>\n",
       "      <td>9</td>\n",
       "      <td>7</td>\n",
       "    </tr>\n",
       "  </tbody>\n",
       "</table>\n",
       "</div>"
      ],
      "text/plain": [
       "   T  2   8  3  5  1  8.1  13  0  6  6.1  10  8.2  0.1  8.3  0.2  8.4\n",
       "0  I  5  12  3  7  2   10   5  5  4   13   3    9    2    8    4   10\n",
       "1  D  4  11  6  8  6   10   6  2  6   10   3    7    3    7    3    9\n",
       "2  N  7  11  6  6  3    5   9  4  6    4   4   10    6   10    2    8\n",
       "3  G  2   1  3  1  1    8   6  6  6    6   5    9    1    7    5   10\n",
       "4  S  4  11  5  8  3    8   8  6  9    5   6    6    0    8    9    7"
      ]
     },
     "execution_count": 2,
     "metadata": {},
     "output_type": "execute_result"
    }
   ],
   "source": [
    "df = pd.read_csv('letter-recognition.data',sep=',')\n",
    "df.head()"
   ]
  },
  {
   "cell_type": "code",
   "execution_count": 3,
   "metadata": {},
   "outputs": [
    {
     "data": {
      "text/plain": [
       "(19999, 17)"
      ]
     },
     "execution_count": 3,
     "metadata": {},
     "output_type": "execute_result"
    }
   ],
   "source": [
    "df.shape"
   ]
  },
  {
   "cell_type": "code",
   "execution_count": 4,
   "metadata": {},
   "outputs": [],
   "source": [
    "temp = df.columns\n",
    "df.loc[len(df.index)] = temp"
   ]
  },
  {
   "cell_type": "code",
   "execution_count": 5,
   "metadata": {},
   "outputs": [
    {
     "data": {
      "text/plain": [
       "(20000, 17)"
      ]
     },
     "execution_count": 5,
     "metadata": {},
     "output_type": "execute_result"
    }
   ],
   "source": [
    "df.shape"
   ]
  },
  {
   "attachments": {},
   "cell_type": "markdown",
   "metadata": {},
   "source": [
    "### 1. Title: Letter Image Recognition Data ###\n",
    "\n",
    "### 2. Source Information ###\n",
    "      Creator: David J. Slate \n",
    "      Odesta Corporation; 1890 Maple Ave; Suite 115; Evanston, IL 60201\n",
    "      Donor: David J. Slate (dave@math.nwu.edu) (708) 491-3867   \n",
    "      Date: January, 1991\n",
    "\n",
    "### 3. Past Usage: ###\n",
    "    P. W. Frey and D. J. Slate (Machine Learning Vol 6 #2 March 91):\n",
    "\t\"Letter Recognition Using Holland-style Adaptive Classifiers\".\n",
    "\n",
    "   \tThe research for this article investigated the ability of several\n",
    "\tvariations of Holland-style adaptive classifier systems to learn to\n",
    "\tcorrectly guess the letter categories associated with vectors of 16\n",
    "\tinteger attributes extracted from raster scan images of the letters.\n",
    "\tThe best accuracy obtained was a little over 80%.  It would be\n",
    "\tinteresting to see how well other methods do with the same data.\n",
    "\n",
    "### 4. Relevant Information: ###\n",
    "\n",
    "    The objective is to identify each of a large number of black-and-white\n",
    "    rectangular pixel displays as one of the 26 capital letters in the English\n",
    "    alphabet.  The character images were based on 20 different fonts and each\n",
    "    letter within these 20 fonts was randomly distorted to produce a file of\n",
    "    20,000 unique stimuli.  Each stimulus was converted into 16 primitive\n",
    "    numerical attributes (statistical moments and edge counts) which were then\n",
    "    scaled to fit into a range of integer values from 0 through 15.  We\n",
    "    typically train on the first 16000 items and then use the resulting model\n",
    "    to predict the letter category for the remaining 4000.  See the article\n",
    "    cited above for more details.\n",
    "\n",
    "### 5. Number of Instances: 20000  ###\n",
    "\n",
    "### 6. Number of Attributes: 17 (Letter category and 16 numeric features) ###\n",
    "\n",
    "### 7. Attribute Information: ###\n",
    "\t 1.\tlettr\tcapital letter\t(26 values from A to Z)\n",
    "\t 2.\tx-box\thorizontal position of box\t(integer)\n",
    "\t 3.\ty-box\tvertical position of box\t(integer)\n",
    "\t 4.\twidth\twidth of box\t\t\t(integer)\n",
    "\t 5.\thigh \theight of box\t\t\t(integer)\n",
    "\t 6.\tonpix\ttotal # on pixels\t\t(integer)\n",
    "\t 7.\tx-bar\tmean x of on pixels in box\t(integer)\n",
    "\t 8.\ty-bar\tmean y of on pixels in box\t(integer)\n",
    "\t 9.\tx2bar\tmean x variance\t\t\t(integer)\n",
    "\t10.\ty2bar\tmean y variance\t\t\t(integer)\n",
    "\t11.\txybar\tmean x y correlation\t\t(integer)\n",
    "\t12.\tx2ybr\tmean of x * x * y\t\t(integer)\n",
    "\t13.\txy2br\tmean of x * y * y\t\t(integer)\n",
    "\t14.\tx-ege\tmean edge count left to right\t(integer)\n",
    "\t15.\txegvy\tcorrelation of x-ege with y\t(integer)\n",
    "\t16.\ty-ege\tmean edge count bottom to top\t(integer)\n",
    "\t17.\tyegvx\tcorrelation of y-ege with x\t(integer)\n",
    "\n",
    "### 8. Missing Attribute Values: None ###\n",
    "\n",
    "### 9. Class Distribution: ###\n",
    " \t789 A\t   766 B     736 C     805 D\t 768 E\t   775 F     773 G\n",
    " \t734 H\t   755 I     747 J     739 K\t 761 L\t   792 M     783 N\n",
    " \t753 O\t   803 P     783 Q     758 R\t 748 S\t   796 T     813 U\n",
    " \t764 V\t   752 W     787 X     786 Y\t 734 Z"
   ]
  },
  {
   "cell_type": "code",
   "execution_count": 6,
   "metadata": {},
   "outputs": [
    {
     "data": {
      "text/html": [
       "<div>\n",
       "<style scoped>\n",
       "    .dataframe tbody tr th:only-of-type {\n",
       "        vertical-align: middle;\n",
       "    }\n",
       "\n",
       "    .dataframe tbody tr th {\n",
       "        vertical-align: top;\n",
       "    }\n",
       "\n",
       "    .dataframe thead th {\n",
       "        text-align: right;\n",
       "    }\n",
       "</style>\n",
       "<table border=\"1\" class=\"dataframe\">\n",
       "  <thead>\n",
       "    <tr style=\"text-align: right;\">\n",
       "      <th></th>\n",
       "      <th>lettr</th>\n",
       "      <th>x-box</th>\n",
       "      <th>y-box</th>\n",
       "      <th>width</th>\n",
       "      <th>high</th>\n",
       "      <th>onpix</th>\n",
       "      <th>x-bar</th>\n",
       "      <th>y-bar</th>\n",
       "      <th>x2bar</th>\n",
       "      <th>y2bar</th>\n",
       "      <th>xybar</th>\n",
       "      <th>x2ybr</th>\n",
       "      <th>xy2br</th>\n",
       "      <th>x-ege</th>\n",
       "      <th>xegvy</th>\n",
       "      <th>y-ege</th>\n",
       "      <th>yegvx</th>\n",
       "    </tr>\n",
       "  </thead>\n",
       "  <tbody>\n",
       "    <tr>\n",
       "      <th>0</th>\n",
       "      <td>I</td>\n",
       "      <td>5</td>\n",
       "      <td>12</td>\n",
       "      <td>3</td>\n",
       "      <td>7</td>\n",
       "      <td>2</td>\n",
       "      <td>10</td>\n",
       "      <td>5</td>\n",
       "      <td>5</td>\n",
       "      <td>4</td>\n",
       "      <td>13</td>\n",
       "      <td>3</td>\n",
       "      <td>9</td>\n",
       "      <td>2</td>\n",
       "      <td>8</td>\n",
       "      <td>4</td>\n",
       "      <td>10</td>\n",
       "    </tr>\n",
       "    <tr>\n",
       "      <th>1</th>\n",
       "      <td>D</td>\n",
       "      <td>4</td>\n",
       "      <td>11</td>\n",
       "      <td>6</td>\n",
       "      <td>8</td>\n",
       "      <td>6</td>\n",
       "      <td>10</td>\n",
       "      <td>6</td>\n",
       "      <td>2</td>\n",
       "      <td>6</td>\n",
       "      <td>10</td>\n",
       "      <td>3</td>\n",
       "      <td>7</td>\n",
       "      <td>3</td>\n",
       "      <td>7</td>\n",
       "      <td>3</td>\n",
       "      <td>9</td>\n",
       "    </tr>\n",
       "    <tr>\n",
       "      <th>2</th>\n",
       "      <td>N</td>\n",
       "      <td>7</td>\n",
       "      <td>11</td>\n",
       "      <td>6</td>\n",
       "      <td>6</td>\n",
       "      <td>3</td>\n",
       "      <td>5</td>\n",
       "      <td>9</td>\n",
       "      <td>4</td>\n",
       "      <td>6</td>\n",
       "      <td>4</td>\n",
       "      <td>4</td>\n",
       "      <td>10</td>\n",
       "      <td>6</td>\n",
       "      <td>10</td>\n",
       "      <td>2</td>\n",
       "      <td>8</td>\n",
       "    </tr>\n",
       "    <tr>\n",
       "      <th>3</th>\n",
       "      <td>G</td>\n",
       "      <td>2</td>\n",
       "      <td>1</td>\n",
       "      <td>3</td>\n",
       "      <td>1</td>\n",
       "      <td>1</td>\n",
       "      <td>8</td>\n",
       "      <td>6</td>\n",
       "      <td>6</td>\n",
       "      <td>6</td>\n",
       "      <td>6</td>\n",
       "      <td>5</td>\n",
       "      <td>9</td>\n",
       "      <td>1</td>\n",
       "      <td>7</td>\n",
       "      <td>5</td>\n",
       "      <td>10</td>\n",
       "    </tr>\n",
       "    <tr>\n",
       "      <th>4</th>\n",
       "      <td>S</td>\n",
       "      <td>4</td>\n",
       "      <td>11</td>\n",
       "      <td>5</td>\n",
       "      <td>8</td>\n",
       "      <td>3</td>\n",
       "      <td>8</td>\n",
       "      <td>8</td>\n",
       "      <td>6</td>\n",
       "      <td>9</td>\n",
       "      <td>5</td>\n",
       "      <td>6</td>\n",
       "      <td>6</td>\n",
       "      <td>0</td>\n",
       "      <td>8</td>\n",
       "      <td>9</td>\n",
       "      <td>7</td>\n",
       "    </tr>\n",
       "  </tbody>\n",
       "</table>\n",
       "</div>"
      ],
      "text/plain": [
       "  lettr x-box y-box width high onpix x-bar y-bar x2bar y2bar xybar x2ybr  \\\n",
       "0     I     5    12     3    7     2    10     5     5     4    13     3   \n",
       "1     D     4    11     6    8     6    10     6     2     6    10     3   \n",
       "2     N     7    11     6    6     3     5     9     4     6     4     4   \n",
       "3     G     2     1     3    1     1     8     6     6     6     6     5   \n",
       "4     S     4    11     5    8     3     8     8     6     9     5     6   \n",
       "\n",
       "  xy2br x-ege xegvy y-ege yegvx  \n",
       "0     9     2     8     4    10  \n",
       "1     7     3     7     3     9  \n",
       "2    10     6    10     2     8  \n",
       "3     9     1     7     5    10  \n",
       "4     6     0     8     9     7  "
      ]
     },
     "execution_count": 6,
     "metadata": {},
     "output_type": "execute_result"
    }
   ],
   "source": [
    "df.columns = ['lettr',\t'x-box',\t'y-box',\t'width',\t'high' ,'onpix','x-bar',\t'y-bar',\t'x2bar',\t'y2bar',\t'xybar',\t'x2ybr',\t'xy2br','x-ege',\t'xegvy',\t'y-ege',\t'yegvx']\n",
    "df.head()"
   ]
  },
  {
   "cell_type": "code",
   "execution_count": 7,
   "metadata": {},
   "outputs": [],
   "source": [
    "temp = []\n",
    "for i in df['lettr'] :\n",
    "    temp.append(ord(i) - 65)  \n",
    "temp\n",
    "df['CLASS'] = temp"
   ]
  },
  {
   "cell_type": "code",
   "execution_count": 8,
   "metadata": {},
   "outputs": [
    {
     "data": {
      "text/html": [
       "<div>\n",
       "<style scoped>\n",
       "    .dataframe tbody tr th:only-of-type {\n",
       "        vertical-align: middle;\n",
       "    }\n",
       "\n",
       "    .dataframe tbody tr th {\n",
       "        vertical-align: top;\n",
       "    }\n",
       "\n",
       "    .dataframe thead th {\n",
       "        text-align: right;\n",
       "    }\n",
       "</style>\n",
       "<table border=\"1\" class=\"dataframe\">\n",
       "  <thead>\n",
       "    <tr style=\"text-align: right;\">\n",
       "      <th></th>\n",
       "      <th>lettr</th>\n",
       "      <th>x-box</th>\n",
       "      <th>y-box</th>\n",
       "      <th>width</th>\n",
       "      <th>high</th>\n",
       "      <th>onpix</th>\n",
       "      <th>x-bar</th>\n",
       "      <th>y-bar</th>\n",
       "      <th>x2bar</th>\n",
       "      <th>y2bar</th>\n",
       "      <th>xybar</th>\n",
       "      <th>x2ybr</th>\n",
       "      <th>xy2br</th>\n",
       "      <th>x-ege</th>\n",
       "      <th>xegvy</th>\n",
       "      <th>y-ege</th>\n",
       "      <th>yegvx</th>\n",
       "      <th>CLASS</th>\n",
       "    </tr>\n",
       "  </thead>\n",
       "  <tbody>\n",
       "    <tr>\n",
       "      <th>0</th>\n",
       "      <td>I</td>\n",
       "      <td>5</td>\n",
       "      <td>12</td>\n",
       "      <td>3</td>\n",
       "      <td>7</td>\n",
       "      <td>2</td>\n",
       "      <td>10</td>\n",
       "      <td>5</td>\n",
       "      <td>5</td>\n",
       "      <td>4</td>\n",
       "      <td>13</td>\n",
       "      <td>3</td>\n",
       "      <td>9</td>\n",
       "      <td>2</td>\n",
       "      <td>8</td>\n",
       "      <td>4</td>\n",
       "      <td>10</td>\n",
       "      <td>8</td>\n",
       "    </tr>\n",
       "    <tr>\n",
       "      <th>1</th>\n",
       "      <td>D</td>\n",
       "      <td>4</td>\n",
       "      <td>11</td>\n",
       "      <td>6</td>\n",
       "      <td>8</td>\n",
       "      <td>6</td>\n",
       "      <td>10</td>\n",
       "      <td>6</td>\n",
       "      <td>2</td>\n",
       "      <td>6</td>\n",
       "      <td>10</td>\n",
       "      <td>3</td>\n",
       "      <td>7</td>\n",
       "      <td>3</td>\n",
       "      <td>7</td>\n",
       "      <td>3</td>\n",
       "      <td>9</td>\n",
       "      <td>3</td>\n",
       "    </tr>\n",
       "    <tr>\n",
       "      <th>2</th>\n",
       "      <td>N</td>\n",
       "      <td>7</td>\n",
       "      <td>11</td>\n",
       "      <td>6</td>\n",
       "      <td>6</td>\n",
       "      <td>3</td>\n",
       "      <td>5</td>\n",
       "      <td>9</td>\n",
       "      <td>4</td>\n",
       "      <td>6</td>\n",
       "      <td>4</td>\n",
       "      <td>4</td>\n",
       "      <td>10</td>\n",
       "      <td>6</td>\n",
       "      <td>10</td>\n",
       "      <td>2</td>\n",
       "      <td>8</td>\n",
       "      <td>13</td>\n",
       "    </tr>\n",
       "    <tr>\n",
       "      <th>3</th>\n",
       "      <td>G</td>\n",
       "      <td>2</td>\n",
       "      <td>1</td>\n",
       "      <td>3</td>\n",
       "      <td>1</td>\n",
       "      <td>1</td>\n",
       "      <td>8</td>\n",
       "      <td>6</td>\n",
       "      <td>6</td>\n",
       "      <td>6</td>\n",
       "      <td>6</td>\n",
       "      <td>5</td>\n",
       "      <td>9</td>\n",
       "      <td>1</td>\n",
       "      <td>7</td>\n",
       "      <td>5</td>\n",
       "      <td>10</td>\n",
       "      <td>6</td>\n",
       "    </tr>\n",
       "    <tr>\n",
       "      <th>4</th>\n",
       "      <td>S</td>\n",
       "      <td>4</td>\n",
       "      <td>11</td>\n",
       "      <td>5</td>\n",
       "      <td>8</td>\n",
       "      <td>3</td>\n",
       "      <td>8</td>\n",
       "      <td>8</td>\n",
       "      <td>6</td>\n",
       "      <td>9</td>\n",
       "      <td>5</td>\n",
       "      <td>6</td>\n",
       "      <td>6</td>\n",
       "      <td>0</td>\n",
       "      <td>8</td>\n",
       "      <td>9</td>\n",
       "      <td>7</td>\n",
       "      <td>18</td>\n",
       "    </tr>\n",
       "  </tbody>\n",
       "</table>\n",
       "</div>"
      ],
      "text/plain": [
       "  lettr x-box y-box width high onpix x-bar y-bar x2bar y2bar xybar x2ybr  \\\n",
       "0     I     5    12     3    7     2    10     5     5     4    13     3   \n",
       "1     D     4    11     6    8     6    10     6     2     6    10     3   \n",
       "2     N     7    11     6    6     3     5     9     4     6     4     4   \n",
       "3     G     2     1     3    1     1     8     6     6     6     6     5   \n",
       "4     S     4    11     5    8     3     8     8     6     9     5     6   \n",
       "\n",
       "  xy2br x-ege xegvy y-ege yegvx  CLASS  \n",
       "0     9     2     8     4    10      8  \n",
       "1     7     3     7     3     9      3  \n",
       "2    10     6    10     2     8     13  \n",
       "3     9     1     7     5    10      6  \n",
       "4     6     0     8     9     7     18  "
      ]
     },
     "execution_count": 8,
     "metadata": {},
     "output_type": "execute_result"
    }
   ],
   "source": [
    "df.head()"
   ]
  },
  {
   "cell_type": "code",
   "execution_count": 9,
   "metadata": {},
   "outputs": [],
   "source": [
    "from sklearn.model_selection import train_test_split\n",
    "from sklearn.svm import SVC\n",
    "from sklearn.metrics import accuracy_score\n",
    "import random \n",
    "random.seed(7)"
   ]
  },
  {
   "cell_type": "code",
   "execution_count": 10,
   "metadata": {},
   "outputs": [],
   "source": [
    "def Simple_Random_Sampling(df,z,e,p = 0.5):\n",
    "    z = st.norm.ppf(z)\n",
    "    n = (z**2)*(p*(1-p))//e**2\n",
    "    rand_sample = df.sample(int(n))\n",
    "    return rand_sample\n",
    "\n",
    "# z -> z score\n",
    "# e -> error\n",
    "# p -> probablity"
   ]
  },
  {
   "cell_type": "code",
   "execution_count": 11,
   "metadata": {},
   "outputs": [],
   "source": [
    "def Cluster_Sampling(df,z,e,c,p = 0.5):\n",
    "    z = st.norm.ppf(z)\n",
    "    rows = df.shape[0]\n",
    "    n = ((z**2)*(p*(1-p))/((e)**2))/(rows - c)\n",
    "    clust = df.sample(frac=n)\n",
    "    return clust"
   ]
  },
  {
   "cell_type": "code",
   "execution_count": 12,
   "metadata": {},
   "outputs": [],
   "source": [
    "def Systematic_sampling(df,k):\n",
    "    indexes = np.arange(0, len(df), step=k)\n",
    "    systematic_sample = df.iloc[indexes]\n",
    "    return systematic_sample"
   ]
  },
  {
   "cell_type": "code",
   "execution_count": 13,
   "metadata": {},
   "outputs": [],
   "source": [
    "def Stratified_Sampling(df,tar,z,e,p = 0.5):\n",
    "    s = len(dict(df[tar].value_counts()))\n",
    "    z = st.norm.ppf(z)\n",
    "    n = (z**2)*(p*(1-p))//((e)**2)\n",
    "    rows = df.shape[0]\n",
    "    strat_sam = df.groupby(tar, group_keys=False).apply(lambda x: x.sample(frac=n/rows))\n",
    "    return strat_sam"
   ]
  },
  {
   "cell_type": "code",
   "execution_count": 14,
   "metadata": {},
   "outputs": [],
   "source": [
    "def fitness_function(train_x,train_y,test_x,test_y,kernel,c,g):\n",
    "    svc_model = SVC(C=c, kernel=kernel, gamma=g)\n",
    "    svc_model.fit(train_x, train_y)\n",
    "    prediction = svc_model.predict(test_x)\n",
    "    return round(accuracy_score(prediction,test_y)*100,2)\n",
    "    "
   ]
  },
  {
   "attachments": {},
   "cell_type": "markdown",
   "metadata": {},
   "source": [
    "### Splitting Data for training and testing ###"
   ]
  },
  {
   "cell_type": "code",
   "execution_count": 15,
   "metadata": {},
   "outputs": [],
   "source": [
    "train, test = train_test_split(df,random_state=104, test_size=0.3,shuffle=True)\n",
    "X_test = test.drop(labels=['lettr','CLASS'],axis=1)\n",
    "Y_test = test['CLASS']"
   ]
  },
  {
   "attachments": {},
   "cell_type": "markdown",
   "metadata": {},
   "source": [
    "### Taking Samples using various sampling techniques ###"
   ]
  },
  {
   "cell_type": "code",
   "execution_count": 16,
   "metadata": {},
   "outputs": [],
   "source": [
    "S1 = Simple_Random_Sampling(train,0.95,0.05)\n",
    "S2 = Simple_Random_Sampling(train,0.90,0.025)\n",
    "S3 = Simple_Random_Sampling(train,0.975,0.05)\n",
    "S4 = Cluster_Sampling(train,0.95,0.05,5)\n",
    "S5 = Cluster_Sampling(train,0.95,0.05,10)\n",
    "S6 = Systematic_sampling(train,100)\n",
    "S7 = Systematic_sampling(train,60)\n",
    "S8 = Systematic_sampling(train,80)\n",
    "S9 = Stratified_Sampling(train,'CLASS',0.95,0.05)\n",
    "S10 = Stratified_Sampling(train,'CLASS',0.90,0.05)"
   ]
  },
  {
   "cell_type": "code",
   "execution_count": 17,
   "metadata": {},
   "outputs": [],
   "source": [
    "best_final = []\n",
    "best_kernel_final = []\n",
    "best_cost_final = []\n",
    "best_gamma_final = []"
   ]
  },
  {
   "attachments": {},
   "cell_type": "markdown",
   "metadata": {},
   "source": [
    "#### Sample 1 ####"
   ]
  },
  {
   "cell_type": "code",
   "execution_count": 18,
   "metadata": {},
   "outputs": [
    {
     "name": "stdout",
     "output_type": "stream",
     "text": [
      "best acc =  3.48\n",
      "best acc =  3.68\n",
      "best acc =  62.92\n"
     ]
    }
   ],
   "source": [
    "kernels = ['rbf','poly','sigmoid','linear']\n",
    "best_acc_S1 = 0\n",
    "best_Kernel_S1 = \"\"\n",
    "best_cost_S1 = 0\n",
    "best_gamma_S1 = 0\n",
    "acc = 0\n",
    "it = 100\n",
    "x = S1.drop( labels= ['lettr','CLASS'],axis=1)\n",
    "y = S1['CLASS']\n",
    "best_S1 = []\n",
    "for i in range(0,it):\n",
    "    ker = random.choice(kernels)\n",
    "    cost = random.random()\n",
    "    gam = random.randrange(1,1000)\n",
    "    acc = fitness_function(x,y,X_test,Y_test,kernel=ker,c=cost,g=gam)\n",
    "    # print(acc)\n",
    "    if acc > best_acc_S1:\n",
    "        best_acc_S1 = acc\n",
    "        best_Kernel_S1 = ker\n",
    "        best_cost_S1 = cost\n",
    "        best_gamma_S1 = gam\n",
    "        print(\"best acc = \",best_acc_S1)\n",
    "    best_S1.append([best_acc_S1,i])\n",
    "        \n",
    "best_final.append(best_acc_S1)\n",
    "best_kernel_final.append(best_Kernel_S1)\n",
    "best_cost_final.append(round(best_cost_S1,3))\n",
    "best_gamma_final.append(best_gamma_S1)"
   ]
  },
  {
   "attachments": {},
   "cell_type": "markdown",
   "metadata": {},
   "source": [
    "#### Sample 2 ####"
   ]
  },
  {
   "cell_type": "code",
   "execution_count": 44,
   "metadata": {},
   "outputs": [
    {
     "name": "stdout",
     "output_type": "stream",
     "text": [
      "best acc =  3.75\n",
      "best acc =  74.68\n",
      "best acc =  76.4\n",
      "best acc =  76.42\n"
     ]
    }
   ],
   "source": [
    "kernels = ['rbf','poly','sigmoid','linear']\n",
    "best_acc_S2 = 0\n",
    "best_Kernel_S2 = \"\"\n",
    "best_cost_S2 = 0\n",
    "best_gamma_S2 = 0\n",
    "acc = 0\n",
    "it = 100\n",
    "x = S2.drop( labels= ['lettr','CLASS'],axis=1)\n",
    "y = S2['CLASS']\n",
    "best_S2 = []\n",
    "for i in range(0,it):\n",
    "    ker = random.choice(kernels)\n",
    "    cost = random.random()\n",
    "    gam = random.randrange(1,1000)\n",
    "    acc = fitness_function(x,y,X_test,Y_test,kernel=ker,c=cost,g=gam)\n",
    "    if acc > best_acc_S2:\n",
    "        best_acc_S2 = acc\n",
    "        best_Kernel_S2 = ker\n",
    "        best_cost_S2 = cost\n",
    "        best_gamma_S2 = gam\n",
    "        print(\"best acc = \",best_acc_S2)\n",
    "    best_S2.append([best_acc_S2,i])\n",
    "        \n",
    "best_final.append(best_acc_S2)\n",
    "best_kernel_final.append(best_Kernel_S2)\n",
    "best_cost_final.append(round(best_cost_S2,3))\n",
    "best_gamma_final.append(best_gamma_S2)"
   ]
  },
  {
   "attachments": {},
   "cell_type": "markdown",
   "metadata": {},
   "source": [
    "#### Sample 3 ####"
   ]
  },
  {
   "cell_type": "code",
   "execution_count": 20,
   "metadata": {},
   "outputs": [
    {
     "name": "stdout",
     "output_type": "stream",
     "text": [
      "best acc =  3.75\n",
      "best acc =  3.77\n",
      "best acc =  69.55\n",
      "best acc =  70.05\n",
      "best acc =  70.27\n",
      "best acc =  70.32\n"
     ]
    }
   ],
   "source": [
    "kernels = ['rbf','poly','sigmoid','linear']\n",
    "best_acc_S3 = 0\n",
    "best_Kernel_S3 = \"\"\n",
    "best_cost_S3 = 0\n",
    "best_gamma_S3 = 0\n",
    "acc = 0\n",
    "it = 100\n",
    "x = S3.drop( labels= ['lettr','CLASS'],axis=1)\n",
    "y = S3['CLASS']\n",
    "best_S3 = []\n",
    "for i in range(0,it):\n",
    "    ker = random.choice(kernels)\n",
    "    cost = random.random()\n",
    "    gam = random.randrange(1,1000)\n",
    "    acc = fitness_function(x,y,X_test,Y_test,kernel=ker,c=cost,g=gam)\n",
    "    if acc > best_acc_S3:\n",
    "        best_acc_S3 = acc\n",
    "        best_Kernel_S3 = ker\n",
    "        best_cost_S3 = cost\n",
    "        best_gamma_S3 = gam\n",
    "        print(\"best acc = \",best_acc_S3)\n",
    "    best_S3.append([best_acc_S3,i])\n",
    "        \n",
    "best_final.append(best_acc_S3)\n",
    "best_kernel_final.append(best_Kernel_S3)\n",
    "best_cost_final.append(round(best_cost_S3,3))\n",
    "best_gamma_final.append(best_gamma_S3)"
   ]
  },
  {
   "attachments": {},
   "cell_type": "markdown",
   "metadata": {},
   "source": [
    "#### Sample 4 ####"
   ]
  },
  {
   "cell_type": "code",
   "execution_count": 21,
   "metadata": {},
   "outputs": [
    {
     "name": "stdout",
     "output_type": "stream",
     "text": [
      "best acc =  66.25\n",
      "best acc =  66.27\n"
     ]
    }
   ],
   "source": [
    "kernels = ['rbf','poly','sigmoid','linear']\n",
    "best_acc_S4 = 0\n",
    "best_Kernel_S4 = \"\"\n",
    "best_cost_S4 = 0\n",
    "best_gamma_S4 = 0\n",
    "acc = 0\n",
    "it = 100\n",
    "x = S4.drop( labels= ['lettr','CLASS'],axis=1)\n",
    "y = S4['CLASS']\n",
    "best_S4 = []\n",
    "for i in range(0,it):\n",
    "    ker = random.choice(kernels)\n",
    "    cost = random.random()\n",
    "    gam = random.randrange(1,1000)\n",
    "    acc = fitness_function(x,y,X_test,Y_test,kernel=ker,c=cost,g=gam)\n",
    "    if acc > best_acc_S4:\n",
    "        best_acc_S4 = acc\n",
    "        best_Kernel_S4 = ker\n",
    "        best_cost_S4 = cost\n",
    "        best_gamma_S4 = gam\n",
    "        print(\"best acc = \",best_acc_S4)\n",
    "    best_S4.append([best_acc_S4,i])\n",
    "        \n",
    "best_final.append(best_acc_S4)\n",
    "best_kernel_final.append(best_Kernel_S4)\n",
    "best_cost_final.append(round(best_cost_S4,3))\n",
    "best_gamma_final.append(best_gamma_S4)"
   ]
  },
  {
   "attachments": {},
   "cell_type": "markdown",
   "metadata": {},
   "source": [
    "#### Sample 5 ####"
   ]
  },
  {
   "cell_type": "code",
   "execution_count": 22,
   "metadata": {},
   "outputs": [
    {
     "name": "stdout",
     "output_type": "stream",
     "text": [
      "best acc =  4.03\n",
      "best acc =  66.5\n",
      "best acc =  67.52\n",
      "best acc =  67.53\n",
      "best acc =  67.55\n"
     ]
    }
   ],
   "source": [
    "kernels = ['rbf','poly','sigmoid','linear']\n",
    "best_acc_S5 = 0\n",
    "best_Kernel_S5 = \"\"\n",
    "best_cost_S5 = 0\n",
    "best_gamma_S5 = 0\n",
    "acc = 0\n",
    "it = 100\n",
    "x = S5.drop( labels= ['lettr','CLASS'],axis=1)\n",
    "y = S5['CLASS']\n",
    "best_S5 = []\n",
    "for i in range(0,it):\n",
    "    ker = random.choice(kernels)\n",
    "    cost = random.random()\n",
    "    gam = random.randrange(1,1000)\n",
    "    acc = fitness_function(x,y,X_test,Y_test,kernel=ker,c=cost,g=gam)\n",
    "    if acc > best_acc_S5:\n",
    "        best_acc_S5 = acc\n",
    "        best_Kernel_S5 = ker\n",
    "        best_cost_S5 = cost\n",
    "        best_gamma_S5 = gam\n",
    "        print(\"best acc = \",best_acc_S5)\n",
    "    best_S5.append([best_acc_S5,i])\n",
    "        \n",
    "best_final.append(best_acc_S5)\n",
    "best_kernel_final.append(best_Kernel_S5)\n",
    "best_cost_final.append(round(best_cost_S5,3))\n",
    "best_gamma_final.append(best_gamma_S5)"
   ]
  },
  {
   "attachments": {},
   "cell_type": "markdown",
   "metadata": {},
   "source": [
    "#### Sample 6 ####"
   ]
  },
  {
   "cell_type": "code",
   "execution_count": 23,
   "metadata": {},
   "outputs": [
    {
     "name": "stdout",
     "output_type": "stream",
     "text": [
      "best acc =  4.1\n",
      "best acc =  51.88\n",
      "best acc =  51.9\n",
      "best acc =  53.1\n",
      "best acc =  53.12\n"
     ]
    }
   ],
   "source": [
    "kernels = ['rbf','poly','sigmoid','linear']\n",
    "best_acc_S6 = 0\n",
    "best_Kernel_S6 = \"\"\n",
    "best_cost_S6 = 0\n",
    "best_gamma_S6 = 0\n",
    "acc = 0\n",
    "it = 100\n",
    "x = S6.drop( labels= ['lettr','CLASS'],axis=1)\n",
    "y = S6['CLASS']\n",
    "best_S6 = []\n",
    "for i in range(0,it):\n",
    "    ker = random.choice(kernels)\n",
    "    cost = random.random()\n",
    "    gam = random.randrange(1,1000)\n",
    "    acc = fitness_function(x,y,X_test,Y_test,kernel=ker,c=cost,g=gam)\n",
    "    if acc > best_acc_S6:\n",
    "        best_acc_S6 = acc\n",
    "        best_Kernel_S6 = ker\n",
    "        best_cost_S6 = cost\n",
    "        best_gamma_S6 = gam\n",
    "        print(\"best acc = \",best_acc_S6)\n",
    "    best_S6.append([best_acc_S6,i])\n",
    "        \n",
    "best_final.append(best_acc_S6)\n",
    "best_kernel_final.append(best_Kernel_S6)\n",
    "best_cost_final.append(round(best_cost_S6,3))\n",
    "best_gamma_final.append(best_gamma_S6)"
   ]
  },
  {
   "attachments": {},
   "cell_type": "markdown",
   "metadata": {},
   "source": [
    "#### Sample 7 ####"
   ]
  },
  {
   "cell_type": "code",
   "execution_count": 24,
   "metadata": {},
   "outputs": [
    {
     "name": "stdout",
     "output_type": "stream",
     "text": [
      "best acc =  61.98\n",
      "best acc =  63.0\n",
      "best acc =  63.3\n",
      "best acc =  63.43\n"
     ]
    }
   ],
   "source": [
    "kernels = ['rbf','poly','sigmoid','linear']\n",
    "best_acc_S7 = 0\n",
    "best_Kernel_S7 = \"\"\n",
    "best_cost_S7 = 0\n",
    "best_gamma_S7 = 0\n",
    "acc = 0\n",
    "it = 100\n",
    "x = S7.drop( labels= ['lettr','CLASS'],axis=1)\n",
    "y = S7['CLASS']\n",
    "best_S7 = []\n",
    "for i in range(0,it):\n",
    "    ker = random.choice(kernels)\n",
    "    cost = random.random()\n",
    "    gam = random.randrange(1,1000)\n",
    "    acc = fitness_function(x,y,X_test,Y_test,kernel=ker,c=cost,g=gam)\n",
    "    if acc > best_acc_S7:\n",
    "        best_acc_S7 = acc\n",
    "        best_Kernel_S7 = ker\n",
    "        best_cost_S7 = cost\n",
    "        best_gamma_S7 = gam\n",
    "        print(\"best acc = \",best_acc_S7)\n",
    "    best_S7.append([best_acc_S7,i])\n",
    "        \n",
    "best_final.append(best_acc_S7)\n",
    "best_kernel_final.append(best_Kernel_S7)\n",
    "best_cost_final.append(round(best_cost_S7,3))\n",
    "best_gamma_final.append(best_gamma_S7)"
   ]
  },
  {
   "attachments": {},
   "cell_type": "markdown",
   "metadata": {},
   "source": [
    "#### Sample 8 ####"
   ]
  },
  {
   "cell_type": "code",
   "execution_count": 25,
   "metadata": {},
   "outputs": [
    {
     "name": "stdout",
     "output_type": "stream",
     "text": [
      "best acc =  61.12\n",
      "best acc =  61.13\n",
      "best acc =  61.22\n"
     ]
    }
   ],
   "source": [
    "kernels = ['rbf','poly','sigmoid','linear']\n",
    "best_acc_S8 = 0\n",
    "best_Kernel_S8 = \"\"\n",
    "best_cost_S8 = 0\n",
    "best_gamma_S8 = 0\n",
    "acc = 0\n",
    "it = 100\n",
    "x = S8.drop( labels= ['lettr','CLASS'],axis=1)\n",
    "y = S8['CLASS']\n",
    "best_S8 = []\n",
    "for i in range(0,it):\n",
    "    ker = random.choice(kernels)\n",
    "    cost = random.random()\n",
    "    gam = random.randrange(1,1000)\n",
    "    acc = fitness_function(x,y,X_test,Y_test,kernel=ker,c=cost,g=gam)\n",
    "    if acc > best_acc_S8:\n",
    "        best_acc_S8 = acc\n",
    "        best_Kernel_S8 = ker\n",
    "        best_cost_S8 = cost\n",
    "        best_gamma_S8 = gam\n",
    "        print(\"best acc = \",best_acc_S8)\n",
    "    best_S8.append([best_acc_S8,i])\n",
    "        \n",
    "best_final.append(best_acc_S8)\n",
    "best_kernel_final.append(best_Kernel_S8)\n",
    "best_cost_final.append(round(best_cost_S8,3))\n",
    "best_gamma_final.append(best_gamma_S8)"
   ]
  },
  {
   "attachments": {},
   "cell_type": "markdown",
   "metadata": {},
   "source": [
    "#### Sample 9 ####"
   ]
  },
  {
   "cell_type": "code",
   "execution_count": 26,
   "metadata": {},
   "outputs": [
    {
     "name": "stdout",
     "output_type": "stream",
     "text": [
      "best acc =  63.67\n",
      "best acc =  64.62\n",
      "best acc =  65.45\n"
     ]
    }
   ],
   "source": [
    "kernels = ['rbf','poly','sigmoid','linear']\n",
    "best_acc_S9 = 0\n",
    "best_Kernel_S9 = \"\"\n",
    "best_cost_S9 = 0\n",
    "best_gamma_S9 = 0\n",
    "acc = 0\n",
    "it = 100\n",
    "x = S9.drop( labels= ['lettr','CLASS'],axis=1)\n",
    "y = S9['CLASS']\n",
    "best_S9 = []\n",
    "for i in range(0,it):\n",
    "    ker = random.choice(kernels)\n",
    "    cost = random.random()\n",
    "    gam = random.randrange(1,1000)\n",
    "    acc = fitness_function(x,y,X_test,Y_test,kernel=ker,c=cost,g=gam)\n",
    "    if acc > best_acc_S9:\n",
    "        best_acc_S9 = acc\n",
    "        best_Kernel_S9 = ker\n",
    "        best_cost_S9 = cost\n",
    "        best_gamma_S9 = gam\n",
    "        print(\"best acc = \",best_acc_S9)\n",
    "    best_S9.append([best_acc_S9,i])        \n",
    "best_final.append(best_acc_S9)\n",
    "best_kernel_final.append(best_Kernel_S9)\n",
    "best_cost_final.append(round(best_cost_S9,3))\n",
    "best_gamma_final.append(best_gamma_S9)"
   ]
  },
  {
   "attachments": {},
   "cell_type": "markdown",
   "metadata": {},
   "source": [
    "#### Sample 10 ####"
   ]
  },
  {
   "cell_type": "code",
   "execution_count": 27,
   "metadata": {},
   "outputs": [
    {
     "name": "stdout",
     "output_type": "stream",
     "text": [
      "best acc =  58.05\n",
      "best acc =  59.8\n",
      "best acc =  59.9\n"
     ]
    }
   ],
   "source": [
    "kernels = ['rbf','poly','sigmoid','linear']\n",
    "best_acc_S10 = 0\n",
    "best_Kernel_S10 = \"\"\n",
    "best_cost_S10 = 0\n",
    "best_gamma_S10 = 0\n",
    "acc = 0\n",
    "it = 100\n",
    "x = S10.drop( labels= ['lettr','CLASS'],axis=1)\n",
    "y = S10['CLASS']\n",
    "best_S10 = []\n",
    "for i in range(0,it):\n",
    "    ker = random.choice(kernels)\n",
    "    cost = random.random()\n",
    "    gam = random.randrange(1,1000)\n",
    "    acc = fitness_function(x,y,X_test,Y_test,kernel=ker,c=cost,g=gam)\n",
    "    if acc > best_acc_S10:\n",
    "        best_acc_S10 = acc\n",
    "        best_Kernel_S10 = ker\n",
    "        best_cost_S10 = cost\n",
    "        best_gamma_S10 = gam\n",
    "        print(\"best acc = \",best_acc_S10)\n",
    "    best_S10.append([best_acc_S10,i])\n",
    "        \n",
    "best_final.append(best_acc_S10)\n",
    "best_kernel_final.append(best_Kernel_S10)\n",
    "best_cost_final.append(round(best_cost_S10,3))\n",
    "best_gamma_final.append(best_gamma_S10)"
   ]
  },
  {
   "cell_type": "code",
   "execution_count": 48,
   "metadata": {},
   "outputs": [],
   "source": [
    "result = pd.DataFrame()\n",
    "result['Sample'] = ['S1','S2','S3','S4','S5','S6','S7','S8','S9','S10']\n",
    "result['Best Accuracy'] = best_final\n",
    "result['Best Kernel'] = best_kernel_final\n",
    "result['Best Cost'] = best_cost_final\n",
    "result['Best Gamma'] = best_gamma_final"
   ]
  },
  {
   "cell_type": "code",
   "execution_count": 49,
   "metadata": {},
   "outputs": [
    {
     "data": {
      "text/html": [
       "<div>\n",
       "<style scoped>\n",
       "    .dataframe tbody tr th:only-of-type {\n",
       "        vertical-align: middle;\n",
       "    }\n",
       "\n",
       "    .dataframe tbody tr th {\n",
       "        vertical-align: top;\n",
       "    }\n",
       "\n",
       "    .dataframe thead th {\n",
       "        text-align: right;\n",
       "    }\n",
       "</style>\n",
       "<table border=\"1\" class=\"dataframe\">\n",
       "  <thead>\n",
       "    <tr style=\"text-align: right;\">\n",
       "      <th></th>\n",
       "      <th>Sample</th>\n",
       "      <th>Best Accuracy</th>\n",
       "      <th>Best Kernel</th>\n",
       "      <th>Best Cost</th>\n",
       "      <th>Best Gamma</th>\n",
       "    </tr>\n",
       "  </thead>\n",
       "  <tbody>\n",
       "    <tr>\n",
       "      <th>0</th>\n",
       "      <td>S1</td>\n",
       "      <td>62.92</td>\n",
       "      <td>poly</td>\n",
       "      <td>0.037</td>\n",
       "      <td>445</td>\n",
       "    </tr>\n",
       "    <tr>\n",
       "      <th>1</th>\n",
       "      <td>S2</td>\n",
       "      <td>76.42</td>\n",
       "      <td>poly</td>\n",
       "      <td>0.891</td>\n",
       "      <td>8</td>\n",
       "    </tr>\n",
       "    <tr>\n",
       "      <th>2</th>\n",
       "      <td>S3</td>\n",
       "      <td>70.32</td>\n",
       "      <td>linear</td>\n",
       "      <td>0.081</td>\n",
       "      <td>234</td>\n",
       "    </tr>\n",
       "    <tr>\n",
       "      <th>3</th>\n",
       "      <td>S4</td>\n",
       "      <td>66.27</td>\n",
       "      <td>poly</td>\n",
       "      <td>0.373</td>\n",
       "      <td>942</td>\n",
       "    </tr>\n",
       "    <tr>\n",
       "      <th>4</th>\n",
       "      <td>S5</td>\n",
       "      <td>67.55</td>\n",
       "      <td>poly</td>\n",
       "      <td>0.254</td>\n",
       "      <td>988</td>\n",
       "    </tr>\n",
       "    <tr>\n",
       "      <th>5</th>\n",
       "      <td>S6</td>\n",
       "      <td>53.12</td>\n",
       "      <td>linear</td>\n",
       "      <td>0.346</td>\n",
       "      <td>157</td>\n",
       "    </tr>\n",
       "    <tr>\n",
       "      <th>6</th>\n",
       "      <td>S7</td>\n",
       "      <td>63.43</td>\n",
       "      <td>linear</td>\n",
       "      <td>0.157</td>\n",
       "      <td>943</td>\n",
       "    </tr>\n",
       "    <tr>\n",
       "      <th>7</th>\n",
       "      <td>S8</td>\n",
       "      <td>61.22</td>\n",
       "      <td>linear</td>\n",
       "      <td>0.240</td>\n",
       "      <td>344</td>\n",
       "    </tr>\n",
       "    <tr>\n",
       "      <th>8</th>\n",
       "      <td>S9</td>\n",
       "      <td>65.45</td>\n",
       "      <td>linear</td>\n",
       "      <td>0.270</td>\n",
       "      <td>900</td>\n",
       "    </tr>\n",
       "    <tr>\n",
       "      <th>9</th>\n",
       "      <td>S10</td>\n",
       "      <td>59.90</td>\n",
       "      <td>linear</td>\n",
       "      <td>0.352</td>\n",
       "      <td>644</td>\n",
       "    </tr>\n",
       "  </tbody>\n",
       "</table>\n",
       "</div>"
      ],
      "text/plain": [
       "  Sample  Best Accuracy Best Kernel  Best Cost  Best Gamma\n",
       "0     S1          62.92        poly      0.037         445\n",
       "1     S2          76.42        poly      0.891           8\n",
       "2     S3          70.32      linear      0.081         234\n",
       "3     S4          66.27        poly      0.373         942\n",
       "4     S5          67.55        poly      0.254         988\n",
       "5     S6          53.12      linear      0.346         157\n",
       "6     S7          63.43      linear      0.157         943\n",
       "7     S8          61.22      linear      0.240         344\n",
       "8     S9          65.45      linear      0.270         900\n",
       "9    S10          59.90      linear      0.352         644"
      ]
     },
     "execution_count": 49,
     "metadata": {},
     "output_type": "execute_result"
    }
   ],
   "source": [
    "result"
   ]
  },
  {
   "attachments": {},
   "cell_type": "markdown",
   "metadata": {},
   "source": [
    "### Sample 2 has the highest accuracy ####"
   ]
  },
  {
   "cell_type": "code",
   "execution_count": 45,
   "metadata": {},
   "outputs": [],
   "source": [
    "itr = []\n",
    "fitness = []\n",
    "for i in best_S2:\n",
    "    itr.append(i[1])\n",
    "    fitness.append(i[0])"
   ]
  },
  {
   "attachments": {},
   "cell_type": "markdown",
   "metadata": {},
   "source": [
    "## Convergence graph of best SVM ##"
   ]
  },
  {
   "cell_type": "code",
   "execution_count": 46,
   "metadata": {},
   "outputs": [
    {
     "data": {
      "image/png": "[encoded data removed]",
      "text/plain": [
       "<Figure size 432x288 with 1 Axes>"
      ]
     },
     "metadata": {
      "needs_background": "light"
     },
     "output_type": "display_data"
    }
   ],
   "source": [
    "plt.plot(itr, fitness,scaley=100)\n",
    "plt.xlabel(\"Iteration\")  \n",
    "plt.ylabel(\"Frequency\")  \n",
    "plt.title(\"Fitness (Best Accuracy)\")  \n",
    "plt.show()"
   ]
  },
  {
   "cell_type": "code",
   "execution_count": null,
   "metadata": {},
   "outputs": [],
   "source": []
  },
  {
   "cell_type": "code",
   "execution_count": null,
   "metadata": {},
   "outputs": [],
   "source": []
  }
 ],
 "metadata": {
  "kernelspec": {
   "display_name": "Python 3",
   "language": "python",
   "name": "python3"
  },
  "language_info": {
   "codemirror_mode": {
    "name": "ipython",
    "version": 3
   },
   "file_extension": ".py",
   "mimetype": "text/x-python",
   "name": "python",
   "nbconvert_exporter": "python",
   "pygments_lexer": "ipython3",
   "version": "3.10.2"
  },
  "orig_nbformat": 4
 },
 "nbformat": 4,
 "nbformat_minor": 2
}
